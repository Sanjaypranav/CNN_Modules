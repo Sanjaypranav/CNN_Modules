{
  "cells": [
    {
      "cell_type": "code",
      "execution_count": 1,
      "metadata": {
        "colab": {
          "base_uri": "https://localhost:8080/"
        },
        "id": "Y-c9bwYv4NIk",
        "outputId": "fba995bc-ab88-435c-eb49-f3bd0e2144da"
      },
      "outputs": [
        {
          "name": "stdout",
          "output_type": "stream",
          "text": [
            "Cloning into 'dog-cat-full-dataset'...\n",
            "remote: Enumerating objects: 25027, done.\u001b[K\n",
            "remote: Total 25027 (delta 0), reused 0 (delta 0), pack-reused 25027\u001b[K\n",
            "Receiving objects: 100% (25027/25027), 541.62 MiB | 38.15 MiB/s, done.\n",
            "Resolving deltas: 100% (5/5), done.\n",
            "Checking out files: 100% (25001/25001), done.\n"
          ]
        }
      ],
      "source": [
        "!git clone https://github.com/laxmimerit/dog-cat-full-dataset.git"
      ]
    },
    {
      "cell_type": "code",
      "execution_count": 2,
      "metadata": {
        "id": "624204Y74y81"
      },
      "outputs": [],
      "source": [
        "import os\n",
        "import sys\n",
        "os.environ['TF_CPP_MIN_LOG_LEVEL'] = '3'"
      ]
    },
    {
      "cell_type": "code",
      "execution_count": 3,
      "metadata": {
        "colab": {
          "base_uri": "https://localhost:8080/",
          "height": 35
        },
        "id": "4ZPBJIDW47bA",
        "outputId": "55bdfc0d-9cd9-4b98-890c-b1230353b640"
      },
      "outputs": [
        {
          "data": {
            "application/vnd.google.colaboratory.intrinsic+json": {
              "type": "string"
            },
            "text/plain": [
              "'/content'"
            ]
          },
          "execution_count": 3,
          "metadata": {},
          "output_type": "execute_result"
        }
      ],
      "source": [
        "file_path = os.getcwd()\n",
        "file_path"
      ]
    },
    {
      "cell_type": "code",
      "execution_count": 4,
      "metadata": {
        "colab": {
          "base_uri": "https://localhost:8080/"
        },
        "id": "0683e06-489Y",
        "outputId": "76838c16-cc5d-4ead-8c04-698232c2b552"
      },
      "outputs": [
        {
          "name": "stdout",
          "output_type": "stream",
          "text": [
            ".config\n",
            "dog-cat-full-dataset\n",
            "model.py\n",
            ".ipynb_checkpoints\n",
            "DataLoader.py\n",
            "sample_data\n"
          ]
        }
      ],
      "source": [
        "for i in os.listdir(file_path):\n",
        "    print(i)"
      ]
    },
    {
      "cell_type": "code",
      "execution_count": 5,
      "metadata": {
        "id": "Lg7vfh_f4_DN"
      },
      "outputs": [],
      "source": [
        "train_data_path = file_path + '/dog-cat-full-dataset/data/train/'\n",
        "test_data_path = file_path + '/dog-cat-full-dataset/data/test/'"
      ]
    },
    {
      "cell_type": "code",
      "execution_count": 6,
      "metadata": {
        "colab": {
          "base_uri": "https://localhost:8080/"
        },
        "id": "v1_1SDlq5Cw1",
        "outputId": "7567324c-7c19-40eb-dd05-7b2e9bec3406"
      },
      "outputs": [
        {
          "name": "stdout",
          "output_type": "stream",
          "text": [
            "dogs\n",
            "cats\n"
          ]
        }
      ],
      "source": [
        "for i in os.listdir(train_data_path):\n",
        "    print(i)"
      ]
    },
    {
      "cell_type": "code",
      "execution_count": 7,
      "metadata": {
        "id": "imsMc6y95EyZ"
      },
      "outputs": [],
      "source": [
        "from DataLoader import Dataset\n",
        "train_dataset = Dataset(train_data_path)\n",
        "test_dataset = Dataset(test_data_path)"
      ]
    },
    {
      "cell_type": "code",
      "execution_count": 8,
      "metadata": {
        "id": "5i5sZnVi5P6-"
      },
      "outputs": [],
      "source": [
        "X , y = train_dataset.read_images(gray=False)"
      ]
    },
    {
      "cell_type": "code",
      "execution_count": 9,
      "metadata": {
        "id": "hACILCBd5Udh"
      },
      "outputs": [],
      "source": [
        "X_test , y_test = test_dataset.read_images(gray=False)"
      ]
    },
    {
      "cell_type": "code",
      "execution_count": 10,
      "metadata": {
        "id": "mFTRzNzN5cFo"
      },
      "outputs": [],
      "source": [
        "y = train_dataset.to_categorical(y)"
      ]
    },
    {
      "cell_type": "code",
      "execution_count": 11,
      "metadata": {
        "colab": {
          "base_uri": "https://localhost:8080/"
        },
        "id": "xpimcU-l5g1x",
        "outputId": "13ad422d-923a-4c77-f2d4-8086c61bfbd2"
      },
      "outputs": [
        {
          "data": {
            "text/plain": [
              "(20000, 224, 224, 3)"
            ]
          },
          "execution_count": 11,
          "metadata": {},
          "output_type": "execute_result"
        }
      ],
      "source": [
        "X.shape"
      ]
    },
    {
      "cell_type": "code",
      "execution_count": 12,
      "metadata": {
        "colab": {
          "base_uri": "https://localhost:8080/"
        },
        "id": "6PT3pYix5mjl",
        "outputId": "92537d7b-efe8-4305-a11a-0bcfe65e9907"
      },
      "outputs": [
        {
          "name": "stdout",
          "output_type": "stream",
          "text": [
            "Downloading data from https://storage.googleapis.com/tensorflow/keras-applications/vgg16/vgg16_weights_tf_dim_ordering_tf_kernels_notop.h5\n",
            "58892288/58889256 [==============================] - 0s 0us/step\n",
            "58900480/58889256 [==============================] - 0s 0us/step\n",
            "Model: \"sequential\"\n",
            "_________________________________________________________________\n",
            " Layer (type)                Output Shape              Param #   \n",
            "=================================================================\n",
            " vgg16 (Functional)          (None, 7, 7, 512)         14714688  \n",
            "                                                                 \n",
            " flatten (Flatten)           (None, 25088)             0         \n",
            "                                                                 \n",
            " dense (Dense)               (None, 512)               12845568  \n",
            "                                                                 \n",
            " dense_1 (Dense)             (None, 2)                 1026      \n",
            "                                                                 \n",
            " activation (Activation)     (None, 2)                 0         \n",
            "                                                                 \n",
            "=================================================================\n",
            "Total params: 27,561,282\n",
            "Trainable params: 12,846,594\n",
            "Non-trainable params: 14,714,688\n",
            "_________________________________________________________________\n"
          ]
        }
      ],
      "source": [
        "from model import CNN\n",
        "model = CNN().build_model()\n",
        "model.summary()"
      ]
    },
    {
      "cell_type": "code",
      "execution_count": 13,
      "metadata": {
        "id": "DfvCLabb5oLG"
      },
      "outputs": [],
      "source": [
        "model.compile(loss = 'sparse_categorical_crossentropy',optimizer = 'adam', metrics = ['accuracy'])"
      ]
    },
    {
      "cell_type": "code",
      "execution_count": 14,
      "metadata": {
        "colab": {
          "base_uri": "https://localhost:8080/"
        },
        "id": "ZOZXyU1i5tlG",
        "outputId": "4bc0d602-9d3e-490d-db49-2a44bc2031ba"
      },
      "outputs": [
        {
          "name": "stdout",
          "output_type": "stream",
          "text": [
            "Epoch 1/10\n",
            "63/63 [==============================] - 70s 804ms/step - loss: 8.6738 - accuracy: 0.9185 - val_loss: 0.1427 - val_accuracy: 0.9553\n",
            "Epoch 2/10\n",
            "63/63 [==============================] - 42s 670ms/step - loss: 0.0411 - accuracy: 0.9879 - val_loss: 0.0902 - val_accuracy: 0.9680\n",
            "Epoch 3/10\n",
            "63/63 [==============================] - 42s 673ms/step - loss: 0.0137 - accuracy: 0.9969 - val_loss: 0.0742 - val_accuracy: 0.9755\n",
            "Epoch 4/10\n",
            "63/63 [==============================] - 42s 673ms/step - loss: 0.0063 - accuracy: 0.9994 - val_loss: 0.0759 - val_accuracy: 0.9747\n",
            "Epoch 5/10\n",
            "63/63 [==============================] - 42s 674ms/step - loss: 0.0023 - accuracy: 0.9998 - val_loss: 0.0926 - val_accuracy: 0.9720\n",
            "Epoch 6/10\n",
            "63/63 [==============================] - 42s 674ms/step - loss: 0.0015 - accuracy: 0.9998 - val_loss: 0.0947 - val_accuracy: 0.9728\n",
            "Epoch 7/10\n",
            "63/63 [==============================] - 42s 674ms/step - loss: 8.9804e-04 - accuracy: 0.9999 - val_loss: 0.0776 - val_accuracy: 0.9793\n",
            "Epoch 8/10\n",
            "63/63 [==============================] - 42s 674ms/step - loss: 0.0015 - accuracy: 0.9998 - val_loss: 0.0913 - val_accuracy: 0.9755\n",
            "Epoch 9/10\n",
            "63/63 [==============================] - 42s 674ms/step - loss: 6.4115e-04 - accuracy: 0.9999 - val_loss: 0.0952 - val_accuracy: 0.9760\n",
            "Epoch 10/10\n",
            "63/63 [==============================] - 42s 673ms/step - loss: 6.6266e-04 - accuracy: 0.9998 - val_loss: 0.0992 - val_accuracy: 0.9760\n"
          ]
        }
      ],
      "source": [
        "performance = model.fit(X, y, batch_size = 256, epochs =10, validation_split = 0.2)"
      ]
    },
    {
      "cell_type": "code",
      "execution_count": 15,
      "metadata": {
        "id": "w-l-zrM55vUX"
      },
      "outputs": [],
      "source": [
        "from sklearn.preprocessing import LabelEncoder \n",
        "lbe = LabelEncoder()\n",
        "y_test = lbe.fit_transform(y_test)"
      ]
    },
    {
      "cell_type": "code",
      "execution_count": 16,
      "metadata": {
        "colab": {
          "base_uri": "https://localhost:8080/"
        },
        "id": "3yfofY3N7sh_",
        "outputId": "520e2e11-0fcd-4d74-e87e-2f1f388b999f"
      },
      "outputs": [
        {
          "name": "stdout",
          "output_type": "stream",
          "text": [
            "157/157 [==============================] - 13s 77ms/step - loss: 0.1171 - accuracy: 0.9810\n"
          ]
        },
        {
          "data": {
            "text/plain": [
              "[0.11714636534452438, 0.9810000061988831]"
            ]
          },
          "execution_count": 16,
          "metadata": {},
          "output_type": "execute_result"
        }
      ],
      "source": [
        "model.evaluate(X_test, y_test)"
      ]
    },
    {
      "cell_type": "code",
      "execution_count": 17,
      "metadata": {
        "id": "IH7ACLZZ7wzL"
      },
      "outputs": [],
      "source": [
        "model.save(\"DogvsCat.h5\")"
      ]
    },
    {
      "cell_type": "code",
      "execution_count": null,
      "metadata": {
        "id": "b4wZMQ0F8AJR"
      },
      "outputs": [],
      "source": []
    }
  ],
  "metadata": {
    "accelerator": "GPU",
    "colab": {
      "machine_shape": "hm",
      "name": "CNN.ipynb",
      "provenance": []
    },
    "gpuClass": "standard",
    "kernelspec": {
      "display_name": "Python 3.10.4 64-bit",
      "language": "python",
      "name": "python3"
    },
    "language_info": {
      "name": "python",
      "version": "3.10.4"
    },
    "vscode": {
      "interpreter": {
        "hash": "916dbcbb3f70747c44a77c7bcd40155683ae19c65e1c03b4aa3499c5328201f1"
      }
    }
  },
  "nbformat": 4,
  "nbformat_minor": 0
}
